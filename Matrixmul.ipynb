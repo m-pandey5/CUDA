{
  "nbformat": 4,
  "nbformat_minor": 0,
  "metadata": {
    "colab": {
      "provenance": [],
      "gpuType": "T4",
      "authorship_tag": "ABX9TyMWTYLnr6OVum+X91UjDDFE",
      "include_colab_link": true
    },
    "kernelspec": {
      "name": "python3",
      "display_name": "Python 3"
    },
    "language_info": {
      "name": "python"
    },
    "accelerator": "GPU"
  },
  "cells": [
    {
      "cell_type": "markdown",
      "metadata": {
        "id": "view-in-github",
        "colab_type": "text"
      },
      "source": [
        "<a href=\"https://colab.research.google.com/github/m-pandey5/CUDA/blob/main/Matrixmul.ipynb\" target=\"_parent\"><img src=\"https://colab.research.google.com/assets/colab-badge.svg\" alt=\"Open In Colab\"/></a>"
      ]
    },
    {
      "cell_type": "code",
      "execution_count": 3,
      "metadata": {
        "colab": {
          "base_uri": "https://localhost:8080/"
        },
        "id": "pNO3GWQWEPQs",
        "outputId": "91bb307d-34c7-43ad-ca6d-97cbf838600c"
      },
      "outputs": [
        {
          "output_type": "stream",
          "name": "stdout",
          "text": [
            "Overwriting matrixmul.cu\n"
          ]
        }
      ],
      "source": [
        "%%writefile matrixmul.cu\n",
        "#include <algorithm>\n",
        "#include <cassert>\n",
        "#include <cstdlib>\n",
        "#include <functional>\n",
        "#include <iostream>\n",
        "#include <vector>\n",
        "\n",
        "using std::cout;\n",
        "using std::generate;\n",
        "using std::vector;\n",
        "__global__ void matrixmul(const int *a, const int *b, int *c, int N){\n",
        "  //compute each threads's global row and coloumn index\n",
        "  int row = blockIdx.y*blockDim.y+ threadIdx.y;\n",
        "  int col = blockIdx.x*blockDim.x+ threadIdx.x;\n",
        "\n",
        "  //iterate over row, and down coloumn\n",
        "  c[row*N+col]=0;\n",
        "  for (int k = 0; k<N;k++){\n",
        "    //Accumulate results for a single element\n",
        "    c[row*N+col]+=a[row*N+k]*b[k*N +col];\n",
        "\n",
        "  }}\n",
        "  // check result on compute\n",
        "  void verify_result(vector<int>&a, vector<int>&b, vector<int>&c, int N){\n",
        "    //for every row..\n",
        "    for (int i =0; i<N;i++){\n",
        "      //for every coloumn\n",
        "      for (int j =0; j<N;j++){\n",
        "        //for every element in the row-column pair\n",
        "        int tmp =0;\n",
        "        for (int k = 0; k<N;k++){\n",
        "          tmp +=a[i*N+k]*b[k*N+j];\n",
        "\n",
        "        }\n",
        "        //check against the CPU result\n",
        "        assert(tmp==c[i*N+j]);\n",
        "      }\n",
        "    }\n",
        "  }\n",
        "  int main(){\n",
        "    //matrix size of 1024*1024\n",
        "    int N =1<<10;\n",
        "    //size of matrix\n",
        "    size_t bytes = N*N*sizeof(int);\n",
        "    //host vector\n",
        "    vector <int> h_a(N*N);\n",
        "    vector <int> h_b(N*N);\n",
        "    vector <int> h_c(N*N);\n",
        "    //intialise the matrix\n",
        "    generate(h_a.begin(), h_a.end(),[](){return rand()%100;});\n",
        "    generate(h_b.begin(), h_b.end(),[](){return rand()%100;});\n",
        "    //allocate device memory\n",
        "    int *d_a, *d_b, *d_c;\n",
        "    cudaMalloc(&d_a, bytes);\n",
        "    cudaMalloc(&d_b, bytes);\n",
        "    cudaMalloc(&d_c, bytes);\n",
        "    // copy data to the device\n",
        "    cudaMemcpy(d_a, h_a.data(),bytes,cudaMemcpyHostToDevice);\n",
        "    cudaMemcpy(d_b, h_b.data(),bytes,cudaMemcpyHostToDevice);\n",
        "    // threads dimension 32*32\n",
        "    int Threads= 32;\n",
        "    //block dim = 32*32\n",
        "    int Blocks = N/Threads;\n",
        "    //use dim3 structs for block and grid dim\n",
        "    dim3 threads(Threads,Threads);\n",
        "    dim3 blocks(Blocks,Blocks);\n",
        "    //launch kernel\n",
        "    matrixmul<<<blocks,threads>>>(d_a,d_b,d_c,N);\n",
        "    // copy data to the host\n",
        "    cudaMemcpy(h_c.data(),d_c,bytes,cudaMemcpyDeviceToHost);\n",
        "    //check result\n",
        "    verify_result(h_a,h_b,h_c,N);\n",
        "    cout<<\"completed successfullu\";\n",
        "    //free memory on device\n",
        "    cudaFree(d_a);\n",
        "    cudaFree(d_b);\n",
        "    cudaFree(d_c);\n",
        "    return 0;\n",
        "\n",
        "\n",
        "\n",
        "\n",
        "  }"
      ]
    },
    {
      "cell_type": "code",
      "source": [
        "!nvcc -arch=sm_75 matrixmul.cu -o matrixmul"
      ],
      "metadata": {
        "id": "e7wo-TbdNID0"
      },
      "execution_count": 4,
      "outputs": []
    },
    {
      "cell_type": "code",
      "source": [
        "!./matrixmul"
      ],
      "metadata": {
        "colab": {
          "base_uri": "https://localhost:8080/"
        },
        "id": "2HklUFdeNX7-",
        "outputId": "00531759-0c7f-4929-cab1-5d39d32cbd8b"
      },
      "execution_count": 6,
      "outputs": [
        {
          "output_type": "stream",
          "name": "stdout",
          "text": [
            "completed successfullu"
          ]
        }
      ]
    }
  ]
}