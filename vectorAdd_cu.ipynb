{
  "nbformat": 4,
  "nbformat_minor": 0,
  "metadata": {
    "colab": {
      "provenance": [],
      "gpuType": "T4",
      "toc_visible": true,
      "authorship_tag": "ABX9TyPms1VpDLiF67YsEMUO2mp0",
      "include_colab_link": true
    },
    "kernelspec": {
      "name": "python3",
      "display_name": "Python 3"
    },
    "language_info": {
      "name": "python"
    }
  },
  "cells": [
    {
      "cell_type": "markdown",
      "metadata": {
        "id": "view-in-github",
        "colab_type": "text"
      },
      "source": [
        "<a href=\"https://colab.research.google.com/github/m-pandey5/CUDA/blob/main/vectorAdd_cu.ipynb\" target=\"_parent\"><img src=\"https://colab.research.google.com/assets/colab-badge.svg\" alt=\"Open In Colab\"/></a>"
      ]
    },
    {
      "cell_type": "code",
      "execution_count": 12,
      "metadata": {
        "colab": {
          "base_uri": "https://localhost:8080/"
        },
        "id": "H7eP-r76IOU6",
        "outputId": "894b58e6-8a77-4bdd-fb0a-b268af79528e"
      },
      "outputs": [
        {
          "output_type": "stream",
          "name": "stdout",
          "text": [
            "Writing vectorAdd.cu\n"
          ]
        }
      ],
      "source": [
        "%%writefile vectorAdd.cu\n",
        "// This program computes the sum of two vectors of length N\n",
        "// By: Nick from CoffeeBeforeArch\n",
        "\n",
        "#include <algorithm>\n",
        "#include <cassert>\n",
        "\n",
        "#include <iostream>\n",
        "#include <vector>\n",
        "\n",
        "// CUDA kernel for vector addition\n",
        "// __global__ means this is called from the CPU, and runs on the GPU\n",
        "__global__ void vectorAdd(const int *__restrict a, const int *__restrict b,\n",
        "                          int *__restrict c, int N) {\n",
        "  // Calculate global thread ID\n",
        "  int tid = (blockIdx.x * blockDim.x) + threadIdx.x;\n",
        "\n",
        "  // Boundary check\n",
        "  if (tid < N) c[tid] = a[tid] + b[tid];\n",
        "}\n",
        "\n",
        "// Check vector add result\n",
        "void verify_result(std::vector<int> &a, std::vector<int> &b,\n",
        "                   std::vector<int> &c) {\n",
        "  for (int i = 0; i < a.size(); i++) {\n",
        "    assert(c[i] == a[i] + b[i]);\n",
        "  }\n",
        "}\n",
        "\n",
        "int main() {\n",
        "  // Array size of 2^16 (65536 elements)\n",
        "  constexpr int N = 1 << 16;\n",
        "  constexpr size_t bytes = sizeof(int) * N;\n",
        "\n",
        "  // Vectors for holding the host-side (CPU-side) data\n",
        "  std::vector<int> a;\n",
        "  a.reserve(N);\n",
        "  std::vector<int> b;\n",
        "  b.reserve(N);\n",
        "  std::vector<int> c;\n",
        "  c.reserve(N);\n",
        "\n",
        "  // Initialize random numbers in each array\n",
        "  for (int i = 0; i < N; i++) {\n",
        "    a.push_back(rand() % 100);\n",
        "    b.push_back(rand() % 100);\n",
        "  }\n",
        "\n",
        "  // Allocate memory on the device\n",
        "  int *d_a, *d_b, *d_c;\n",
        "  cudaMalloc(&d_a, bytes);\n",
        "  cudaMalloc(&d_b, bytes);\n",
        "  cudaMalloc(&d_c, bytes);\n",
        "\n",
        "  // Copy data from the host to the device (CPU -> GPU)\n",
        "  cudaMemcpy(d_a, a.data(), bytes, cudaMemcpyHostToDevice);\n",
        "  cudaMemcpy(d_b, b.data(), bytes, cudaMemcpyHostToDevice);\n",
        "\n",
        "  // Threads per CTA (1024)\n",
        "  int NUM_THREADS = 1 << 10;\n",
        "\n",
        "  // CTAs per Grid\n",
        "  // We need to launch at LEAST as many threads as we have elements\n",
        "  // This equation pads an extra CTA to the grid if N cannot evenly be divided\n",
        "  // by NUM_THREADS (e.g. N = 1025, NUM_THREADS = 1024)\n",
        "  int NUM_BLOCKS = (N + NUM_THREADS - 1) / NUM_THREADS;\n",
        "\n",
        "  // Launch the kernel on the GPU\n",
        "  // Kernel calls are asynchronous (the CPU program continues execution after\n",
        "  // call, but no necessarily before the kernel finishes)\n",
        "  vectorAdd<<<NUM_BLOCKS, NUM_THREADS>>>(d_a, d_b, d_c, N);\n",
        "\n",
        "  // Copy sum vector from device to host\n",
        "  // cudaMemcpy is a synchronous operation, and waits for the prior kernel\n",
        "  // launch to complete (both go to the default stream in this case).\n",
        "  // Therefore, this cudaMemcpy acts as both a memcpy and synchronization\n",
        "  // barrier.\n",
        "  cudaMemcpy(c.data(), d_c, bytes, cudaMemcpyDeviceToHost);\n",
        "\n",
        "  // Check result for errors\n",
        "  verify_result(a, b, c);\n",
        "\n",
        "  // Free memory on device\n",
        "  cudaFree(d_a);\n",
        "  cudaFree(d_b);\n",
        "  cudaFree(d_c);\n",
        "\n",
        "  std::cout << \"COMPLETED SUCCESSFULLY\\n\";\n",
        "\n",
        "  return 0;\n",
        "}\n"
      ]
    },
    {
      "cell_type": "code",
      "source": [
        "!nvcc vectorAdd.cu -o vectorAdd"
      ],
      "metadata": {
        "id": "pL2C6GEgI_Yy"
      },
      "execution_count": 13,
      "outputs": []
    },
    {
      "cell_type": "code",
      "source": [
        "!nvcc -arch=sm_75 vectorAdd.cu -o vectorAdd"
      ],
      "metadata": {
        "id": "Gq0QQbOZJPg7"
      },
      "execution_count": 14,
      "outputs": []
    },
    {
      "cell_type": "code",
      "source": [
        "!./vectorAdd"
      ],
      "metadata": {
        "colab": {
          "base_uri": "https://localhost:8080/"
        },
        "id": "xdXaHKylJZrZ",
        "outputId": "cc097331-7f11-4856-bbc2-6adedc685793"
      },
      "execution_count": 15,
      "outputs": [
        {
          "output_type": "stream",
          "name": "stdout",
          "text": [
            "COMPLETED SUCCESSFULLY\n"
          ]
        }
      ]
    },
    {
      "cell_type": "code",
      "source": [
        "!git clone https://github.com/m-pandey5/CUDA\n",
        "\n"
      ],
      "metadata": {
        "colab": {
          "base_uri": "https://localhost:8080/"
        },
        "id": "YC8bZaeAFq5w",
        "outputId": "89c14df6-bf5e-4133-a11e-cb17e112c9dd"
      },
      "execution_count": 16,
      "outputs": [
        {
          "output_type": "stream",
          "name": "stdout",
          "text": [
            "Cloning into 'CUDA'...\n",
            "warning: You appear to have cloned an empty repository.\n"
          ]
        }
      ]
    },
    {
      "cell_type": "code",
      "source": [
        "%cd CUDA/\n"
      ],
      "metadata": {
        "colab": {
          "base_uri": "https://localhost:8080/"
        },
        "id": "_JFyI2coFx60",
        "outputId": "bd32d28b-70dc-4aea-cd87-f2097947715a"
      },
      "execution_count": 17,
      "outputs": [
        {
          "output_type": "stream",
          "name": "stdout",
          "text": [
            "/content/CUDA/CUDA\n"
          ]
        }
      ]
    },
    {
      "cell_type": "code",
      "source": [
        "!git config --global user.name \"Muskan\"\n",
        "!git config --global user.email \"me1222025@iitd.ac.in\""
      ],
      "metadata": {
        "id": "WbhiJI0TF0_Q"
      },
      "execution_count": 18,
      "outputs": []
    },
    {
      "cell_type": "code",
      "source": [
        "!git add vectorAdd.cu\n",
        "!git commit -m \"Add CUDA kernel for addition\"\n"
      ],
      "metadata": {
        "colab": {
          "base_uri": "https://localhost:8080/"
        },
        "id": "Ll3h1KuyJVlQ",
        "outputId": "c97db6ee-2432-4bf2-e0db-292025adf030"
      },
      "execution_count": 19,
      "outputs": [
        {
          "output_type": "stream",
          "name": "stdout",
          "text": [
            "fatal: pathspec 'vectorAdd.cu' did not match any files\n",
            "On branch main\n",
            "\n",
            "Initial commit\n",
            "\n",
            "nothing to commit (create/copy files and use \"git add\" to track)\n"
          ]
        }
      ]
    },
    {
      "cell_type": "code",
      "source": [
        "!pwd  # Check current path\n",
        "!ls   # List files in the directory\n",
        "\n"
      ],
      "metadata": {
        "colab": {
          "base_uri": "https://localhost:8080/"
        },
        "id": "pnaCZtOUJc5O",
        "outputId": "63b20123-8685-4433-932e-c4ff8900a333"
      },
      "execution_count": 1,
      "outputs": [
        {
          "output_type": "stream",
          "name": "stdout",
          "text": [
            "/content\n",
            "sample_data\n"
          ]
        }
      ]
    },
    {
      "cell_type": "code",
      "source": [
        "!ls -l\n"
      ],
      "metadata": {
        "colab": {
          "base_uri": "https://localhost:8080/"
        },
        "id": "hRpq8vsMfXLe",
        "outputId": "9f15b2cc-5b1c-4b85-f505-3b883a4ad31f"
      },
      "execution_count": 2,
      "outputs": [
        {
          "output_type": "stream",
          "name": "stdout",
          "text": [
            "total 4\n",
            "drwxr-xr-x 1 root root 4096 Feb 28 14:20 sample_data\n"
          ]
        }
      ]
    },
    {
      "cell_type": "code",
      "source": [
        "%cd /content\n"
      ],
      "metadata": {
        "colab": {
          "base_uri": "https://localhost:8080/"
        },
        "id": "Hu_b0dxafgDW",
        "outputId": "fcf9424e-cda3-4636-b7fd-9532ad4c8eda"
      },
      "execution_count": 4,
      "outputs": [
        {
          "output_type": "stream",
          "name": "stdout",
          "text": [
            "/content\n"
          ]
        }
      ]
    },
    {
      "cell_type": "code",
      "source": [
        "! ls"
      ],
      "metadata": {
        "colab": {
          "base_uri": "https://localhost:8080/"
        },
        "id": "ElAFy1FciKVx",
        "outputId": "6ab4723c-b402-402d-8e7d-12ce8955eb83"
      },
      "execution_count": 5,
      "outputs": [
        {
          "output_type": "stream",
          "name": "stdout",
          "text": [
            "sample_data\n"
          ]
        }
      ]
    },
    {
      "cell_type": "code",
      "source": [
        "%cd /sample_data"
      ],
      "metadata": {
        "colab": {
          "base_uri": "https://localhost:8080/"
        },
        "id": "A3i4pPxJiNxT",
        "outputId": "3976b0da-2625-4b82-c58a-3a55adb304d6"
      },
      "execution_count": 6,
      "outputs": [
        {
          "output_type": "stream",
          "name": "stdout",
          "text": [
            "[Errno 2] No such file or directory: '/sample_data'\n",
            "/content\n"
          ]
        }
      ]
    },
    {
      "cell_type": "code",
      "source": [
        "!ls -R /content\n"
      ],
      "metadata": {
        "colab": {
          "base_uri": "https://localhost:8080/"
        },
        "id": "daQyiS9YiSv5",
        "outputId": "0d7693b6-f919-4dba-a60d-63126a40aa75"
      },
      "execution_count": 7,
      "outputs": [
        {
          "output_type": "stream",
          "name": "stdout",
          "text": [
            "/content:\n",
            "sample_data\n",
            "\n",
            "/content/sample_data:\n",
            "anscombe.json\t\t     california_housing_train.csv  mnist_train_small.csv\n",
            "california_housing_test.csv  mnist_test.csv\t\t   README.md\n"
          ]
        }
      ]
    },
    {
      "cell_type": "code",
      "source": [
        "# todo"
      ],
      "metadata": {
        "id": "SMmtTE9hi1sT"
      },
      "execution_count": null,
      "outputs": []
    }
  ]
}